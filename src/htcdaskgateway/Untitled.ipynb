{
 "cells": [
  {
   "cell_type": "code",
   "execution_count": 1,
   "id": "6e0c9f55-3bc0-4983-9cdd-4f073ea3220c",
   "metadata": {
    "tags": []
   },
   "outputs": [
    {
     "name": "stdout",
     "output_type": "stream",
     "text": [
      "Python version: 3.8\n",
      "Image Test:  /cvmfs/unpacked.cern.ch/registry.hub.docker.com/coffeateam/coffea-dask-cc7-gateway:latest-py3.8\n"
     ]
    }
   ],
   "source": [
    "python_vers = \"{0}.{1}\".format(sys.version_info[0],sys.version_info[1])\n",
    "print(\"Python version:\",python_vers)\n",
    "image_test = f\"/cvmfs/unpacked.cern.ch/registry.hub.docker.com/coffeateam/coffea-dask-cc7-gateway:latest-py\"+python_vers\n",
    "print(\"Image Test: \",image_test)"
   ]
  },
  {
   "cell_type": "code",
   "execution_count": null,
   "id": "b6190998-9045-4a4d-ae5f-b2cbf98981c7",
   "metadata": {},
   "outputs": [],
   "source": []
  }
 ],
 "metadata": {
  "kernelspec": {
   "display_name": "Python 3 (ipykernel)",
   "language": "python",
   "name": "py3-preamble"
  },
  "language_info": {
   "codemirror_mode": {
    "name": "ipython",
    "version": 3
   },
   "file_extension": ".py",
   "mimetype": "text/x-python",
   "name": "python",
   "nbconvert_exporter": "python",
   "pygments_lexer": "ipython3",
   "version": "3.8.15"
  }
 },
 "nbformat": 4,
 "nbformat_minor": 5
}
